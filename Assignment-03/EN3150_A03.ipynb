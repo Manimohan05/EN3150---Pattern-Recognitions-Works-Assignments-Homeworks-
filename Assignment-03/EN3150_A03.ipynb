{
 "cells": [
  {
   "cell_type": "markdown",
   "metadata": {},
   "source": [
    "**EN3150 Assignment 03: Simple convolutional neural network\n",
    "to perform classification.**"
   ]
  },
  {
   "cell_type": "markdown",
   "metadata": {},
   "source": [
    "**Group :- PixelMedics**"
   ]
  },
  {
   "cell_type": "markdown",
   "metadata": {},
   "source": [
    "ABEYGUNATHILAKA T.L. 200003P\n",
    "\n",
    "MANIMOHAN T. 200377M\n",
    "\n",
    "PUSHPAKUMARA H.M.R.M. 200488E\n",
    "\n",
    "TILAKARATHNA U.A. 200664P\n"
   ]
  },
  {
   "cell_type": "markdown",
   "metadata": {},
   "source": [
    "**1 CNN for image classification**\n",
    "\n",
    "In this assignment, you will create a simple image classifier using convolutional neural network (CNN). You have the freedom to use any programming language and toolkit of your choice, but it is recommended to use the Python programming language along with TensorFlow and Keras or PyTorch to construct the convolutional neural network (CNN).\n",
    "\n",
    "1. Why CNNs preferable for image classification over multilayered perceptrons (MLPs)\n",
    "or simple feedforward neural networks (NNs)?\n",
    "\n",
    "2. Set up your environment: Ensure that you have installed all the required software\n",
    "packages.\n",
    "\n",
    "3. Prepare your dataset: Download the CIFAR-10 dataset. This dataset contains 60,000\n",
    "color images in 10 different classes. Documentation of this data set can be found\n",
    "in CIFAR-10 dataset. You may use listing 1 to load data. Further, apply suitable\n",
    "feature scaling. Refer this for more information \"pytorch normalization\".\n",
    "\n",
    "4. Split the dataset into training, validation, and testing subsets using a ratio of 60%\n",
    "for training and 20% each for validation and testing sets1\n",
    ".\n"
   ]
  },
  {
   "cell_type": "code",
   "execution_count": 1,
   "metadata": {},
   "outputs": [
    {
     "name": "stdout",
     "output_type": "stream",
     "text": [
      "Files already downloaded and verified\n",
      "Files already downloaded and verified\n"
     ]
    }
   ],
   "source": [
    "# For PyTorch\n",
    "import torchvision\n",
    "import torchvision.transforms as transforms\n",
    "\n",
    "# Define data transformations (optional, but recommended)\n",
    "transform = transforms.Compose([\n",
    "    transforms.ToTensor(),\n",
    "    transforms.Normalize((0.5, 0.5, 0.5), (0.5, 0.5, 0.5))\n",
    "])\n",
    "\n",
    "# Load the training dataset\n",
    "train_dataset = torchvision.datasets.CIFAR10(root='./data', train=True, transform=transform, download=True)\n",
    "\n",
    "# Load the testing dataset\n",
    "test_dataset = torchvision.datasets.CIFAR10(root='./data', train=False, transform=transform, download=True)\n",
    "\n",
    "# For Keras\n",
    "from keras.datasets import cifar10\n",
    "\n",
    "# Load the CIFAR-10 dataset\n",
    "(train_images, train_labels), (test_images, test_labels) = cifar10.load_data()\n"
   ]
  },
  {
   "cell_type": "code",
   "execution_count": 2,
   "metadata": {},
   "outputs": [],
   "source": [
    "import torch\n",
    "from torch.utils.data import random_split\n",
    "\n",
    "\n",
    "# Assuming you have already loaded the CIFAR-10 dataset into train_dataset and test_dataset\n",
    "\n",
    "# Calculate the sizes for training, validation, and test sets\n",
    "total_size = len(train_dataset)\n",
    "train_size = int(0.6 * total_size)\n",
    "val_size = int(0.2 * total_size)\n",
    "test_size = total_size - train_size - val_size\n",
    "\n",
    "# Split the dataset\n",
    "train_set, val_set, test_set = random_split(train_dataset, [train_size, val_size, test_size])\n",
    "\n",
    "# Create data loaders for training, validation, and testing\n",
    "train_loader = torch.utils.data.DataLoader(train_set, batch_size=64, shuffle=True, num_workers=2)\n",
    "val_loader = torch.utils.data.DataLoader(val_set, batch_size=64, shuffle=False, num_workers=2)\n",
    "test_loader = torch.utils.data.DataLoader(test_set, batch_size=64, shuffle=False, num_workers=2)\n",
    "\n"
   ]
  },
  {
   "cell_type": "markdown",
   "metadata": {},
   "source": [
    "5. Build the CNN model: A common CNN design consists of interleaving convolutional\n",
    "and max-pooling layers, ending with a linear classification layer [1]. This pattern is\n",
    "illustrated in Figure 1\n",
    "2\n",
    ", and it was inspired by Fukushima’s neocognitron [2] and\n",
    "Hubel and Wiesel’s work on human visual cortex [3]. Yann LeCun’s LeNet model\n",
    "refined this approach in 1998, popularizing it through backpropagation and SGD [4].\n",
    "In this example (Figure 1), we exclude normalization layers from the CNN design\n",
    "because the model is relatively simple and not very deep. Here, the benefits of\n",
    "normalization layers may not be visible. However, in deep neural networks, normal\u0002ization layers, such as batch normalization or layer normalization, are often used to\n",
    "improve training stability. They help mitigate issues like vanishing gradients and\n",
    "can make it easier for deep networks to converge during training. Refer tensorflow\n",
    "batch normalization and pytorch batch normalization for more information.\n",
    "\n",
    "\n",
    "A basic CNN architecture is given below. Feel free to modify this network by adding\n",
    "more layers.\n",
    "\n",
    "• A Convolutional layer with x1 filters, a m1 × m1 kernel, and ’relu’ activation.\n",
    "\n",
    "• A MaxPooling layer.\n",
    "\n",
    "• Another Convolutional layer with x2 filters, a m2 × m2 kernel, and ’relu’ activation.\n",
    "\n",
    "• Another MaxPooling layer.\n",
    "\n",
    "• Flatten the output.\n",
    "\n",
    "• A fully connected layer with x3 units and ’relu’ activation.\n",
    "\n",
    "• Add dropout with a rate of d to reduce overfitting.\n",
    "\n",
    "• An output layer with 10 units (for 10 classes) and ’softmax’ activation."
   ]
  },
  {
   "cell_type": "code",
   "execution_count": 16,
   "metadata": {},
   "outputs": [
    {
     "name": "stdout",
     "output_type": "stream",
     "text": [
      "SimpleCNN(\n",
      "  (conv1): Conv2d(3, 16, kernel_size=(3, 3), stride=(1, 1), padding=(1, 1))\n",
      "  (relu1): ReLU()\n",
      "  (maxpool1): MaxPool2d(kernel_size=2, stride=2, padding=0, dilation=1, ceil_mode=False)\n",
      "  (conv2): Conv2d(16, 32, kernel_size=(3, 3), stride=(1, 1), padding=(1, 1))\n",
      "  (relu2): ReLU()\n",
      "  (maxpool2): MaxPool2d(kernel_size=2, stride=2, padding=0, dilation=1, ceil_mode=False)\n",
      "  (flatten): Flatten(start_dim=1, end_dim=-1)\n",
      "  (fc1): Linear(in_features=2048, out_features=128, bias=True)\n",
      "  (relu3): ReLU()\n",
      "  (dropout): Dropout(p=0.5, inplace=False)\n",
      "  (fc2): Linear(in_features=128, out_features=10, bias=True)\n",
      "  (softmax): Softmax(dim=1)\n",
      ")\n",
      "\n",
      "Model Parameters:\n",
      "conv1.weight\t\ttorch.Size([16, 3, 3, 3])\t\tTotal Parameters: 432\n",
      "conv1.bias\t\ttorch.Size([16])\t\tTotal Parameters: 16\n",
      "conv2.weight\t\ttorch.Size([32, 16, 3, 3])\t\tTotal Parameters: 4608\n",
      "conv2.bias\t\ttorch.Size([32])\t\tTotal Parameters: 32\n",
      "fc1.weight\t\ttorch.Size([128, 2048])\t\tTotal Parameters: 262144\n",
      "fc1.bias\t\ttorch.Size([128])\t\tTotal Parameters: 128\n",
      "fc2.weight\t\ttorch.Size([10, 128])\t\tTotal Parameters: 1280\n",
      "fc2.bias\t\ttorch.Size([10])\t\tTotal Parameters: 10\n"
     ]
    }
   ],
   "source": [
    "import torch\n",
    "import torch.nn as nn\n",
    "import torch.optim as optim\n",
    "\n",
    "class SimpleCNN(nn.Module):\n",
    "    def __init__(self, x1, m1, x2, m2, x3, d):\n",
    "        super(SimpleCNN, self).__init__()\n",
    "        # Convolutional layer 1\n",
    "        self.conv1 = nn.Conv2d(in_channels=3, out_channels=x1, kernel_size=m1, stride=1, padding=1)\n",
    "        self.relu1 = nn.ReLU()\n",
    "        self.maxpool1 = nn.MaxPool2d(kernel_size=2, stride=2)\n",
    "\n",
    "        # Convolutional layer 2\n",
    "        self.conv2 = nn.Conv2d(in_channels=x1, out_channels=x2, kernel_size=m2, stride=1, padding=1)\n",
    "        self.relu2 = nn.ReLU()\n",
    "        self.maxpool2 = nn.MaxPool2d(kernel_size=2, stride=2)\n",
    "\n",
    "        # Fully connected layer\n",
    "        self.flatten = nn.Flatten()\n",
    "        self.fc1 = nn.Linear(x2 * (32 // 4) * (32 // 4), x3)\n",
    "        self.relu3 = nn.ReLU()\n",
    "        self.dropout = nn.Dropout(p=d)\n",
    "\n",
    "        # Output layer\n",
    "        self.fc2 = nn.Linear(x3, 10)\n",
    "        self.softmax = nn.Softmax(dim=1)\n",
    "\n",
    "    def forward(self, x):\n",
    "        x = self.maxpool1(self.relu1(self.conv1(x)))\n",
    "        x = self.maxpool2(self.relu2(self.conv2(x)))\n",
    "        x = self.flatten(x)\n",
    "        x = self.dropout(self.relu3(self.fc1(x)))\n",
    "        x = self.softmax(self.fc2(x))\n",
    "        return x\n",
    "\n",
    "# Instantiate the model\n",
    "x1, m1, x2, m2, x3, d = 16, 3, 32, 3, 128, 0.5  # You can adjust these hyperparameters\n",
    "model = SimpleCNN(x1, m1, x2, m2, x3, d)\n",
    "\n",
    "# Print the model architecture\n",
    "print(model)\n",
    "\n",
    "# Print model parameters in a table format\n",
    "print(\"\\nModel Parameters:\")\n",
    "for name, param in model.named_parameters():\n",
    "    print(f\"{name}\\t\\t{param.shape}\\t\\tTotal Parameters: {param.numel()}\")"
   ]
  },
  {
   "cell_type": "markdown",
   "metadata": {},
   "source": [
    "6. Determine the parameters of the above network such as kernel sizes, filter sizes, size\n",
    "of the fully connected layer and dropout rate."
   ]
  },
  {
   "cell_type": "code",
   "execution_count": 15,
   "metadata": {},
   "outputs": [],
   "source": [
    "x1, m1, x2, m2, x3, d = 16, 3, 32, 3, 128, 0.5  # Adjust these hyperparameters\n",
    "model = SimpleCNN(x1, m1, x2, m2, x3, d)\n"
   ]
  },
  {
   "cell_type": "markdown",
   "metadata": {},
   "source": [
    "7. Train the model: Train the model using the training data for 20 epochs and plot\n",
    "training and validation loss for with respect to epoch. Here, for the optimizer\n",
    "you may use adam and sparse categorical crossentropy as the loss function. Set\n",
    "a suitable learning rate. Refer this page to see available optimizers keras opti\u0002mizers and pytorch optimizers. More information about optimizer can be found in\n",
    "https://cs231n.github.io/neural-networks\n",
    "\n"
   ]
  },
  {
   "cell_type": "code",
   "execution_count": 17,
   "metadata": {},
   "outputs": [
    {
     "name": "stdout",
     "output_type": "stream",
     "text": [
      "Epoch [1/20], Train Loss: 2.1506, Validation Loss: 2.0574\n",
      "Epoch [2/20], Train Loss: 2.0531, Validation Loss: 1.9917\n",
      "Epoch [3/20], Train Loss: 2.0109, Validation Loss: 1.9638\n",
      "Epoch [4/20], Train Loss: 1.9805, Validation Loss: 1.9437\n",
      "Epoch [5/20], Train Loss: 1.9605, Validation Loss: 1.9351\n",
      "Epoch [6/20], Train Loss: 1.9427, Validation Loss: 1.9109\n",
      "Epoch [7/20], Train Loss: 1.9331, Validation Loss: 1.9159\n",
      "Epoch [8/20], Train Loss: 1.9181, Validation Loss: 1.8958\n",
      "Epoch [9/20], Train Loss: 1.9079, Validation Loss: 1.8780\n",
      "Epoch [10/20], Train Loss: 1.8954, Validation Loss: 1.8773\n",
      "Epoch [11/20], Train Loss: 1.8854, Validation Loss: 1.8726\n",
      "Epoch [12/20], Train Loss: 1.8714, Validation Loss: 1.8612\n",
      "Epoch [13/20], Train Loss: 1.8690, Validation Loss: 1.8521\n",
      "Epoch [14/20], Train Loss: 1.8560, Validation Loss: 1.8544\n",
      "Epoch [15/20], Train Loss: 1.8524, Validation Loss: 1.8375\n",
      "Epoch [16/20], Train Loss: 1.8408, Validation Loss: 1.8388\n",
      "Epoch [17/20], Train Loss: 1.8376, Validation Loss: 1.8478\n",
      "Epoch [18/20], Train Loss: 1.8303, Validation Loss: 1.8340\n",
      "Epoch [19/20], Train Loss: 1.8235, Validation Loss: 1.8307\n",
      "Epoch [20/20], Train Loss: 1.8208, Validation Loss: 1.8256\n"
     ]
    },
    {
     "data": {
      "image/png": "[encoded data removed]",
      "text/plain": [
       "<Figure size 640x480 with 1 Axes>"
      ]
     },
     "metadata": {},
     "output_type": "display_data"
    }
   ],
   "source": [
    "import torch\n",
    "import torch.nn as nn\n",
    "import torch.optim as optim\n",
    "import matplotlib.pyplot as plt\n",
    "\n",
    "# Assuming you have the train_loader and val_loader already defined\n",
    "\n",
    "# Instantiate the model\n",
    "x1, m1, x2, m2, x3, d = 16, 3, 32, 3, 128, 0.5\n",
    "model = SimpleCNN(x1, m1, x2, m2, x3, d)\n",
    "\n",
    "# Define the loss function and optimizer\n",
    "criterion = nn.CrossEntropyLoss()\n",
    "optimizer = optim.Adam(model.parameters(), lr=0.001)  # Adjust the learning rate as needed\n",
    "\n",
    "# Training loop\n",
    "num_epochs = 20\n",
    "train_losses = []\n",
    "val_losses = []\n",
    "\n",
    "for epoch in range(num_epochs):\n",
    "    model.train()\n",
    "    running_loss = 0.0\n",
    "\n",
    "    for inputs, labels in train_loader:\n",
    "        optimizer.zero_grad()\n",
    "        outputs = model(inputs)\n",
    "        loss = criterion(outputs, labels)\n",
    "        loss.backward()\n",
    "        optimizer.step()\n",
    "        running_loss += loss.item()\n",
    "\n",
    "    # Calculate average training loss for the epoch\n",
    "    avg_train_loss = running_loss / len(train_loader)\n",
    "    train_losses.append(avg_train_loss)\n",
    "\n",
    "    # Validation loss\n",
    "    model.eval()\n",
    "    val_loss = 0.0\n",
    "\n",
    "    with torch.no_grad():\n",
    "        for inputs, labels in val_loader:\n",
    "            outputs = model(inputs)\n",
    "            loss = criterion(outputs, labels)\n",
    "            val_loss += loss.item()\n",
    "\n",
    "    # Calculate average validation loss for the epoch\n",
    "    avg_val_loss = val_loss / len(val_loader)\n",
    "    val_losses.append(avg_val_loss)\n",
    "\n",
    "    # Print progress\n",
    "    print(f\"Epoch [{epoch + 1}/{num_epochs}], Train Loss: {avg_train_loss:.4f}, Validation Loss: {avg_val_loss:.4f}\")\n",
    "\n",
    "# Plot training and validation loss\n",
    "plt.plot(range(1, num_epochs + 1), train_losses, label='Training Loss')\n",
    "plt.plot(range(1, num_epochs + 1), val_losses, label='Validation Loss')\n",
    "plt.xlabel('Epoch')\n",
    "plt.ylabel('Loss')\n",
    "plt.title('Training and Validation Loss')\n",
    "plt.legend()\n",
    "plt.show()\n"
   ]
  },
  {
   "cell_type": "markdown",
   "metadata": {},
   "source": [
    "8. Why we have chosen adam optimizer over SGD?\n",
    "\n"
   ]
  },
  {
   "cell_type": "markdown",
   "metadata": {},
   "source": [
    "**Adaptive Learning Rates:**\n",
    "\n",
    "Adam adjusts learning rates individually for each parameter based on historical gradients.\n",
    "\n",
    "**Momentum and RMSprop Combined:**\n",
    "\n",
    "Adam combines momentum and RMSprop techniques, leading to faster convergence and better generalization.\n",
    "\n",
    "**Effective for Noisy Data and Sparse Gradients:**\n",
    "\n",
    "Adam handles noisy data and sparse gradients well, making it suitable for real-world, complex datasets.\n",
    "\n",
    "**No Need for Manual Learning Rate Tuning:**\n",
    "\n",
    "Adam reduces the need for manual tuning of learning rates, providing robust performance across a range of hyperparameter choices.\n",
    "\n",
    "**Efficient Memory Usage:**\n",
    "\n",
    "Adam's use of moving averages for squared gradients results in efficient memory usage, beneficial for large datasets or limited computational resources.\n",
    "\n",
    "**Well-suited for Deep Learning:**\n",
    "\n",
    "Adam has demonstrated effectiveness in training deep neural networks, which often have complex architectures and numerous parameters."
   ]
  },
  {
   "cell_type": "markdown",
   "metadata": {},
   "source": [
    "9. Why we have chosen sparse categorical crossentropy as the loss function?\n",
    "\n"
   ]
  },
  {
   "cell_type": "markdown",
   "metadata": {},
   "source": [
    "- **Single-Label Classification:**\n",
    "  - Suitable for problems where each instance belongs to only one class.\n",
    "\n",
    "- **Integer Class Labels:**\n",
    "  - Designed for scenarios with integer class labels, avoiding the need for one-hot encoding.\n",
    "\n",
    "- **Efficiency:**\n",
    "  - Computationally efficient for a large number of classes, reducing the need for explicit one-hot encoding.\n",
    "\n",
    "- **Memory Efficiency:**\n",
    "  - Efficient memory usage, particularly important for deep learning models with limited resources.\n",
    "\n",
    "- **Commonly Used for Classification:**\n",
    "  - Standard choice for classification tasks, often used with softmax activation in the output layer.\n",
    "\n",
    "- **Gradient Computation:**\n",
    "  - Computationally efficient gradient computation, making it suitable for backpropagation in neural network training.\n",
    "\n",
    "- **Handles Class Imbalance:**\n",
    "  - Effective in dealing with class imbalance without requiring equal representation of each class.\n"
   ]
  },
  {
   "cell_type": "markdown",
   "metadata": {},
   "source": [
    "10. Evaluate the Model: After training, evaluate the model’s performance on the testing\n",
    "dataset. Record the train/test accuracy, confusion matrix, precision and recall.\n"
   ]
  },
  {
   "cell_type": "code",
   "execution_count": 18,
   "metadata": {},
   "outputs": [
    {
     "name": "stdout",
     "output_type": "stream",
     "text": [
      "Test Accuracy: 62.58%\n"
     ]
    },
    {
     "data": {
      "image/png": "[encoded data removed]",
      "text/plain": [
       "<Figure size 800x600 with 2 Axes>"
      ]
     },
     "metadata": {},
     "output_type": "display_data"
    },
    {
     "name": "stdout",
     "output_type": "stream",
     "text": [
      "Weighted Precision: 0.6248\n",
      "Weighted Recall: 0.6258\n"
     ]
    }
   ],
   "source": [
    "import torch\n",
    "from sklearn.metrics import accuracy_score, confusion_matrix, precision_score, recall_score\n",
    "import seaborn as sns\n",
    "import matplotlib.pyplot as plt\n",
    "\n",
    "# Assuming you have the test_loader and the model already defined\n",
    "\n",
    "# Set the model to evaluation mode\n",
    "model.eval()\n",
    "\n",
    "# Lists to store predictions and true labels\n",
    "all_predictions = []\n",
    "all_labels = []\n",
    "\n",
    "# Iterate over the test dataset\n",
    "with torch.no_grad():\n",
    "    for inputs, labels in test_loader:\n",
    "        outputs = model(inputs)\n",
    "        _, predictions = torch.max(outputs, 1)  # Get the index of the class with the maximum probability\n",
    "        all_predictions.extend(predictions.numpy())\n",
    "        all_labels.extend(labels.numpy())\n",
    "\n",
    "# Calculate accuracy\n",
    "accuracy = accuracy_score(all_labels, all_predictions)\n",
    "print(f'Test Accuracy: {accuracy * 100:.2f}%')\n",
    "\n",
    "# Confusion Matrix\n",
    "cm = confusion_matrix(all_labels, all_predictions)\n",
    "plt.figure(figsize=(8, 6))\n",
    "sns.heatmap(cm, annot=True, fmt=\"d\", cmap=\"Blues\", xticklabels=range(10), yticklabels=range(10))\n",
    "plt.xlabel(\"Predicted Label\")\n",
    "plt.ylabel(\"True Label\")\n",
    "plt.title(\"Confusion Matrix\")\n",
    "plt.show()\n",
    "\n",
    "# Precision and Recall\n",
    "precision = precision_score(all_labels, all_predictions, average='weighted')\n",
    "recall = recall_score(all_labels, all_predictions, average='weighted')\n",
    "\n",
    "print(f'Weighted Precision: {precision:.4f}')\n",
    "print(f'Weighted Recall: {recall:.4f}')\n"
   ]
  },
  {
   "cell_type": "markdown",
   "metadata": {},
   "source": [
    "11. Plot training and validation loss for with respect to epoch for different learning rates\n",
    "such as 0.0001, 0.001, 0.01, and 0.1."
   ]
  },
  {
   "cell_type": "markdown",
   "metadata": {},
   "source": [
    "**2 Compare your network with state-of-the-art networks***\n",
    "\n",
    "\"In practice, training an entire convolutional network from scratch (starting with\n",
    "random initialization) is a rare occurrence. This is primarily due to the scarcity of\n",
    "datasets of sufficient size. Instead, a common approach is to first pretrain a CNN\n",
    "on an extensive dataset, such as ImageNet, which comprises 1.2 million images\n",
    "across 1000 categories. Subsequently, this pretrained CNN can be utilized as either\n",
    "an initialization point or a fixed feature extractor when tackling a specific task of\n",
    "interest. This is known as transfer learning\" 3\n",
    "."
   ]
  },
  {
   "cell_type": "markdown",
   "metadata": {},
   "source": [
    "12. Choose two state-of-the-art pre-trained model or architecture like ImageNet, ResNet,\n",
    "Googlenet, AlexNet, DenseNet and VGG.\n",
    "\n",
    "13. Load the pre-trained model and fine-tune it for the CIFAR-10 dataset.\n",
    "\n",
    "14. Train the fine-tuned model using the same training and testing data splits as your\n",
    "custom CNN model.\n",
    "\n",
    "\n"
   ]
  },
  {
   "cell_type": "markdown",
   "metadata": {},
   "source": [
    "\n",
    "15. Record training and validation loss values for each epoch.\n"
   ]
  },
  {
   "cell_type": "code",
   "execution_count": 26,
   "metadata": {},
   "outputs": [
    {
     "name": "stdout",
     "output_type": "stream",
     "text": [
      "\n",
      "Fine-tuning resnet for CIFAR-10:\n",
      "Epoch 1/5, Train Loss: 0.9614, Validation Loss: 0.7905\n",
      "Epoch 2/5, Train Loss: 0.6517, Validation Loss: 0.6352\n",
      "Epoch 3/5, Train Loss: 0.5209, Validation Loss: 0.6456\n",
      "Epoch 4/5, Train Loss: 0.4189, Validation Loss: 0.6808\n",
      "Epoch 5/5, Train Loss: 0.3462, Validation Loss: 0.6137\n",
      "\n",
      "Final resnet Training  Loss: 0.3462\n",
      "Final resnet Validation Loss: 0.6137\n",
      "\n",
      "Fine-tuning densenet for CIFAR-10:\n"
     ]
    },
    {
     "name": "stderr",
     "output_type": "stream",
     "text": [
      "c:\\Users\\MSI\\anaconda3\\Lib\\site-packages\\torchvision\\models\\_utils.py:223: UserWarning: Arguments other than a weight enum or `None` for 'weights' are deprecated since 0.13 and may be removed in the future. The current behavior is equivalent to passing `weights=DenseNet121_Weights.IMAGENET1K_V1`. You can also use `weights=DenseNet121_Weights.DEFAULT` to get the most up-to-date weights.\n",
      "  warnings.warn(msg)\n"
     ]
    },
    {
     "name": "stdout",
     "output_type": "stream",
     "text": [
      "Epoch 1/5, Train Loss: 0.8808, Validation Loss: 0.6523\n",
      "Epoch 2/5, Train Loss: 0.6377, Validation Loss: 0.6135\n",
      "Epoch 3/5, Train Loss: 0.4895, Validation Loss: 0.5305\n",
      "Epoch 4/5, Train Loss: 0.3798, Validation Loss: 0.5127\n",
      "Epoch 5/5, Train Loss: 0.3455, Validation Loss: 0.5049\n",
      "\n",
      "Final densenet Training Loss: 0.3455\n",
      "Final densenet Validation Loss: 0.5049\n"
     ]
    }
   ],
   "source": [
    "import torch\n",
    "import torchvision\n",
    "from torchvision import transforms, models\n",
    "import torch.nn as nn\n",
    "import torch.optim as optim\n",
    "from torch.utils.data import DataLoader\n",
    "from sklearn.metrics import accuracy_score\n",
    "\n",
    "# Assuming you have the train_loader and test_loader already defined for CIFAR-10\n",
    "\n",
    "# Function to load a pre-trained model and modify the classifier for CIFAR-10\n",
    "def load_and_modify_model(model_name):\n",
    "    if model_name == 'resnet':\n",
    "        model = models.resnet18(pretrained=True)\n",
    "        in_features = model.fc.in_features\n",
    "        model.fc = nn.Linear(in_features, 10)  # Modify the classifier for CIFAR-10\n",
    "    elif model_name == 'densenet':\n",
    "        model = models.densenet121(pretrained=True)\n",
    "        in_features = model.classifier.in_features\n",
    "        model.classifier = nn.Linear(in_features, 10)  # Modify the classifier for CIFAR-10\n",
    "    else:\n",
    "        raise ValueError(\"Invalid model name\")\n",
    "    \n",
    "    return model\n",
    "\n",
    "# Function to fine-tune the model\n",
    "def fine_tune_model(model, train_loader, test_loader, num_epochs=5, learning_rate=0.001):\n",
    "    device = torch.device(\"cuda\" if torch.cuda.is_available() else \"cpu\")\n",
    "    model = model.to(device)\n",
    "\n",
    "    criterion = nn.CrossEntropyLoss()\n",
    "    optimizer = optim.Adam(model.parameters(), lr=learning_rate)\n",
    "\n",
    "    # Lists to store training and validation losses\n",
    "    train_losses = []\n",
    "    val_losses = []\n",
    "\n",
    "    # Fine-tuning loop\n",
    "    for epoch in range(num_epochs):\n",
    "        model.train()\n",
    "        running_train_loss = 0.0\n",
    "        for inputs, labels in train_loader:\n",
    "            inputs, labels = inputs.to(device), labels.to(device)\n",
    "            optimizer.zero_grad()\n",
    "            outputs = model(inputs)\n",
    "            loss = criterion(outputs, labels)\n",
    "            loss.backward()\n",
    "            optimizer.step()\n",
    "            running_train_loss += loss.item()\n",
    "\n",
    "        # Average training loss for the epoch\n",
    "        avg_train_loss = running_train_loss / len(train_loader)\n",
    "        train_losses.append(avg_train_loss)\n",
    "\n",
    "        # Validation\n",
    "        model.eval()\n",
    "        running_val_loss = 0.0\n",
    "        with torch.no_grad():\n",
    "            for inputs, labels in test_loader:\n",
    "                inputs, labels = inputs.to(device), labels.to(device)\n",
    "                outputs = model(inputs)\n",
    "                loss = criterion(outputs, labels)\n",
    "                running_val_loss += loss.item()\n",
    "\n",
    "        # Average validation loss for the epoch\n",
    "        avg_val_loss = running_val_loss / len(test_loader)\n",
    "        val_losses.append(avg_val_loss)\n",
    "\n",
    "        # Print progress\n",
    "        print(f\"Epoch {epoch+1}/{num_epochs}, Train Loss: {avg_train_loss:.4f}, Validation Loss: {avg_val_loss:.4f}\")\n",
    "\n",
    "    return train_losses, val_losses\n",
    "\n",
    "# Choose the models to fine-tune\n",
    "model_names = ['resnet', 'densenet']\n",
    "\n",
    "# Fine-tune each model\n",
    "#resnet\n",
    "print(f\"\\nFine-tuning {model_names[0]} for CIFAR-10:\")\n",
    "pre_trained_resnet_model = load_and_modify_model(model_names[0])\n",
    "train_resnet_losses, val_resnet_losses = fine_tune_model(pre_trained_resnet_model, train_loader, test_loader)\n",
    "\n",
    "# Print the final training and validation loss values\n",
    "print(f\"\\nFinal resnet Training  Loss: {train_resnet_losses[-1]:.4f}\")\n",
    "print(f\"Final resnet Validation Loss: {val_resnet_losses[-1]:.4f}\")\n",
    "\n",
    "#densenet\n",
    "print(f\"\\nFine-tuning {model_names[1]} for CIFAR-10:\")\n",
    "pre_trained_densenet_model = load_and_modify_model(model_names[1])\n",
    "train_densenet_losses, val_densenet_losses = fine_tune_model(pre_trained_densenet_model, train_loader, test_loader)\n",
    "\n",
    "# Print the final training and validation loss values\n",
    "print(f\"\\nFinal densenet Training Loss: {train_densenet_losses[-1]:.4f}\")\n",
    "print(f\"Final densenet Validation Loss: {val_densenet_losses[-1]:.4f}\")"
   ]
  },
  {
   "cell_type": "markdown",
   "metadata": {},
   "source": [
    "16. Evaluate the fine-tuned model on the testing dataset and calculate the test accuracy"
   ]
  },
  {
   "cell_type": "code",
   "execution_count": 28,
   "metadata": {},
   "outputs": [
    {
     "name": "stdout",
     "output_type": "stream",
     "text": [
      "Test Accuracy (ResNet): 80.40%\n",
      "Test Accuracy (Densenet): 82.65%\n"
     ]
    }
   ],
   "source": [
    "import torch\n",
    "from sklearn.metrics import accuracy_score\n",
    "\n",
    "# Function to evaluate a model on the testing dataset\n",
    "def evaluate_model(model, test_loader):\n",
    "    model.eval()\n",
    "    all_predictions = []\n",
    "    all_labels = []\n",
    "\n",
    "    with torch.no_grad():\n",
    "        for inputs, labels in test_loader:\n",
    "            outputs = model(inputs)\n",
    "            _, predictions = torch.max(outputs, 1)  # Get the index of the class with the maximum probability\n",
    "            all_predictions.extend(predictions.numpy())\n",
    "            all_labels.extend(labels.numpy())\n",
    "\n",
    "    accuracy = accuracy_score(all_labels, all_predictions)\n",
    "    return accuracy\n",
    "\n",
    "# Evaluate the fine-tuned models on the testing dataset\n",
    "resnet_accuracy = evaluate_model(pre_trained_resnet_model, test_loader)\n",
    "densenet_accuracy = evaluate_model(pre_trained_densenet_model, test_loader)\n",
    "\n",
    "print(f\"Test Accuracy (ResNet): {resnet_accuracy * 100:.2f}%\")\n",
    "print(f\"Test Accuracy (Densenet): {densenet_accuracy * 100:.2f}%\")\n"
   ]
  },
  {
   "cell_type": "markdown",
   "metadata": {},
   "source": [
    "17. Compare the test accuracy of your custom CNN model with that of the fine-tuned\n",
    "state-of-the-art model.\n",
    "\n"
   ]
  },
  {
   "cell_type": "code",
   "execution_count": 29,
   "metadata": {},
   "outputs": [
    {
     "name": "stdout",
     "output_type": "stream",
     "text": [
      "\n",
      "Evaluation on Custom CNN:\n",
      "\n",
      "Comparison of Test Accuracy:\n",
      "Custom CNN Test Accuracy: 62.58%\n",
      "Fine-Tuned ResNet Test Accuracy: 80.40%\n",
      "Fine-Tuned DenseNet Test Accuracy: 82.65%\n"
     ]
    }
   ],
   "source": [
    "\n",
    "# Assuming you have the 'model' variable containing your custom CNN model\n",
    "\n",
    "# Evaluate the custom CNN model on the testing dataset\n",
    "print(\"\\nEvaluation on Custom CNN:\")\n",
    "evaluate_model(model, test_loader)\n",
    "\n",
    "# Compare with fine-tuned models\n",
    "print(\"\\nComparison of Test Accuracy:\")\n",
    "print(f\"Custom CNN Test Accuracy: {accuracy * 100:.2f}%\")\n",
    "print(f\"Fine-Tuned ResNet Test Accuracy: {resnet_accuracy * 100:.2f}%\")\n",
    "print(f\"Fine-Tuned DenseNet Test Accuracy: {densenet_accuracy * 100:.2f}%\")\n"
   ]
  },
  {
   "cell_type": "markdown",
   "metadata": {},
   "source": [
    "18. Discuss trade-offs, advantages, and limitations of using a custom model versus a\n",
    "pre-trained model."
   ]
  }
 ],
 "metadata": {
  "kernelspec": {
   "display_name": "patrec",
   "language": "python",
   "name": "patrec"
  },
  "language_info": {
   "codemirror_mode": {
    "name": "ipython",
    "version": 3
   },
   "file_extension": ".py",
   "mimetype": "text/x-python",
   "name": "python",
   "nbconvert_exporter": "python",
   "pygments_lexer": "ipython3",
   "version": "3.11.5"
  }
 },
 "nbformat": 4,
 "nbformat_minor": 2
}
