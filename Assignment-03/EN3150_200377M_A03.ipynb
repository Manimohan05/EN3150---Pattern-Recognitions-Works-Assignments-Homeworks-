{
 "cells": [
  {
   "cell_type": "markdown",
   "metadata": {},
   "source": [
    "**1 CNN for image classification**\n",
    "\n",
    "In this assignment, you will create a simple image classifier using convolutional neural network (CNN). You have the freedom to use any programming language and toolkit of your choice, but it is recommended to use the Python programming language along with TensorFlow and Keras or PyTorch to construct the convolutional neural network (CNN).\n",
    "\n",
    "1. Why CNNs preferable for image classification over multilayered perceptrons (MLPs)\n",
    "or simple feedforward neural networks (NNs)?\n",
    "\n",
    "2. Set up your environment: Ensure that you have installed all the required software\n",
    "packages.\n",
    "\n",
    "3. Prepare your dataset: Download the CIFAR-10 dataset. This dataset contains 60,000\n",
    "color images in 10 different classes. Documentation of this data set can be found\n",
    "in CIFAR-10 dataset. You may use listing 1 to load data. Further, apply suitable\n",
    "feature scaling. Refer this for more information \"pytorch normalization\".\n",
    "\n",
    "4. Split the dataset into training, validation, and testing subsets using a ratio of 60%\n",
    "for training and 20% each for validation and testing sets1\n",
    ".\n"
   ]
  },
  {
   "cell_type": "code",
   "execution_count": 1,
   "metadata": {},
   "outputs": [
    {
     "name": "stdout",
     "output_type": "stream",
     "text": [
      "Files already downloaded and verified\n",
      "Files already downloaded and verified\n"
     ]
    }
   ],
   "source": [
    "# For PyTorch\n",
    "import torchvision\n",
    "import torchvision.transforms as transforms\n",
    "\n",
    "# Define data transformations (optional, but recommended)\n",
    "transform = transforms.Compose([\n",
    "    transforms.ToTensor(),\n",
    "    transforms.Normalize((0.5, 0.5, 0.5), (0.5, 0.5, 0.5))\n",
    "])\n",
    "\n",
    "# Load the training dataset\n",
    "train_dataset = torchvision.datasets.CIFAR10(root='./data', train=True, transform=transform, download=True)\n",
    "\n",
    "# Load the testing dataset\n",
    "test_dataset = torchvision.datasets.CIFAR10(root='./data', train=False, transform=transform, download=True)\n",
    "\n",
    "# For Keras\n",
    "from keras.datasets import cifar10\n",
    "\n",
    "# Load the CIFAR-10 dataset\n",
    "(train_images, train_labels), (test_images, test_labels) = cifar10.load_data()\n"
   ]
  },
  {
   "cell_type": "code",
   "execution_count": 2,
   "metadata": {},
   "outputs": [],
   "source": [
    "from sklearn.model_selection import train_test_split\n",
    "\n",
    "# Split the dataset into training (60%), validation (20%), and testing (20%) sets\n",
    "train_images, val_images, train_labels, val_labels = train_test_split(train_images, train_labels, test_size=0.2, random_state=42)\n",
    "\n"
   ]
  },
  {
   "cell_type": "markdown",
   "metadata": {},
   "source": [
    "5. Build the CNN model: A common CNN design consists of interleaving convolutional\n",
    "and max-pooling layers, ending with a linear classification layer [1]. This pattern is\n",
    "illustrated in Figure 1\n",
    "2\n",
    ", and it was inspired by Fukushima’s neocognitron [2] and\n",
    "Hubel and Wiesel’s work on human visual cortex [3]. Yann LeCun’s LeNet model\n",
    "refined this approach in 1998, popularizing it through backpropagation and SGD [4].\n",
    "In this example (Figure 1), we exclude normalization layers from the CNN design\n",
    "because the model is relatively simple and not very deep. Here, the benefits of\n",
    "normalization layers may not be visible. However, in deep neural networks, normal\u0002ization layers, such as batch normalization or layer normalization, are often used to\n",
    "improve training stability. They help mitigate issues like vanishing gradients and\n",
    "can make it easier for deep networks to converge during training. Refer tensorflow\n",
    "batch normalization and pytorch batch normalization for more information.\n",
    "\n",
    "\n",
    "A basic CNN architecture is given below. Feel free to modify this network by adding\n",
    "more layers.\n",
    "\n",
    "• A Convolutional layer with x1 filters, a m1 × m1 kernel, and ’relu’ activation.\n",
    "\n",
    "• A MaxPooling layer.\n",
    "\n",
    "• Another Convolutional layer with x2 filters, a m2 × m2 kernel, and ’relu’ activation.\n",
    "\n",
    "• Another MaxPooling layer.\n",
    "\n",
    "• Flatten the output.\n",
    "\n",
    "• A fully connected layer with x3 units and ’relu’ activation.\n",
    "\n",
    "• Add dropout with a rate of d to reduce overfitting.\n",
    "\n",
    "• An output layer with 10 units (for 10 classes) and ’softmax’ activation."
   ]
  },
  {
   "cell_type": "code",
   "execution_count": 3,
   "metadata": {},
   "outputs": [
    {
     "name": "stdout",
     "output_type": "stream",
     "text": [
      "SimpleCNN(\n",
      "  (conv1): Conv2d(3, 16, kernel_size=(3, 3), stride=(1, 1), padding=(1, 1))\n",
      "  (relu1): ReLU()\n",
      "  (maxpool1): MaxPool2d(kernel_size=2, stride=2, padding=0, dilation=1, ceil_mode=False)\n",
      "  (conv2): Conv2d(16, 32, kernel_size=(3, 3), stride=(1, 1), padding=(1, 1))\n",
      "  (relu2): ReLU()\n",
      "  (maxpool2): MaxPool2d(kernel_size=2, stride=2, padding=0, dilation=1, ceil_mode=False)\n",
      "  (flatten): Flatten(start_dim=1, end_dim=-1)\n",
      "  (fc1): Linear(in_features=2048, out_features=128, bias=True)\n",
      "  (relu3): ReLU()\n",
      "  (dropout): Dropout(p=0.5, inplace=False)\n",
      "  (fc2): Linear(in_features=128, out_features=10, bias=True)\n",
      "  (softmax): Softmax(dim=1)\n",
      ")\n"
     ]
    }
   ],
   "source": [
    "import torch\n",
    "import torch.nn as nn\n",
    "import torch.optim as optim\n",
    "\n",
    "class SimpleCNN(nn.Module):\n",
    "    def __init__(self, x1, m1, x2, m2, x3, d):\n",
    "        super(SimpleCNN, self).__init__()\n",
    "        # Convolutional layer 1\n",
    "        self.conv1 = nn.Conv2d(in_channels=3, out_channels=x1, kernel_size=m1, stride=1, padding=1)\n",
    "        self.relu1 = nn.ReLU()\n",
    "        self.maxpool1 = nn.MaxPool2d(kernel_size=2, stride=2)\n",
    "\n",
    "        # Convolutional layer 2\n",
    "        self.conv2 = nn.Conv2d(in_channels=x1, out_channels=x2, kernel_size=m2, stride=1, padding=1)\n",
    "        self.relu2 = nn.ReLU()\n",
    "        self.maxpool2 = nn.MaxPool2d(kernel_size=2, stride=2)\n",
    "\n",
    "        # Fully connected layer\n",
    "        self.flatten = nn.Flatten()\n",
    "        self.fc1 = nn.Linear(x2 * (32 // 4) * (32 // 4), x3)\n",
    "        self.relu3 = nn.ReLU()\n",
    "        self.dropout = nn.Dropout(p=d)\n",
    "\n",
    "        # Output layer\n",
    "        self.fc2 = nn.Linear(x3, 10)\n",
    "        self.softmax = nn.Softmax(dim=1)\n",
    "\n",
    "    def forward(self, x):\n",
    "        x = self.maxpool1(self.relu1(self.conv1(x)))\n",
    "        x = self.maxpool2(self.relu2(self.conv2(x)))\n",
    "        x = self.flatten(x)\n",
    "        x = self.dropout(self.relu3(self.fc1(x)))\n",
    "        x = self.softmax(self.fc2(x))\n",
    "        return x\n",
    "\n",
    "# Instantiate the model\n",
    "x1, m1, x2, m2, x3, d = 16, 3, 32, 3, 128, 0.5  # You can adjust these hyperparameters\n",
    "model = SimpleCNN(x1, m1, x2, m2, x3, d)\n",
    "\n",
    "# Print the model architecture\n",
    "print(model)\n"
   ]
  },
  {
   "cell_type": "markdown",
   "metadata": {},
   "source": [
    "6. Determine the parameters of the above network such as kernel sizes, filter sizes, size\n",
    "of the fully connected layer and dropout rate."
   ]
  },
  {
   "cell_type": "code",
   "execution_count": 7,
   "metadata": {},
   "outputs": [],
   "source": [
    "x1, m1, x2, m2, x3, d = 16, 3, 32, 3, 128, 0.5  # Adjust these hyperparameters\n",
    "model = SimpleCNN(x1, m1, x2, m2, x3, d)\n"
   ]
  },
  {
   "cell_type": "markdown",
   "metadata": {},
   "source": [
    "7. Train the model: Train the model using the training data for 20 epochs and plot\n",
    "training and validation loss for with respect to epoch. Here, for the optimizer\n",
    "you may use adam and sparse categorical crossentropy as the loss function. Set\n",
    "a suitable learning rate. Refer this page to see available optimizers keras opti\u0002mizers and pytorch optimizers. More information about optimizer can be found in\n",
    "https://cs231n.github.io/neural-networks\n",
    "\n"
   ]
  },
  {
   "cell_type": "markdown",
   "metadata": {},
   "source": [
    "8. Why we have chosen adam optimizer over SGD?\n",
    "\n"
   ]
  },
  {
   "cell_type": "markdown",
   "metadata": {},
   "source": [
    "9. Why we have chosen sparse categorical crossentropy as the loss function?\n",
    "\n"
   ]
  },
  {
   "cell_type": "markdown",
   "metadata": {},
   "source": [
    "10. Evaluate the Model: After training, evaluate the model’s performance on the testing\n",
    "dataset. Record the train/test accuracy, confusion matrix, precision and recall.\n"
   ]
  },
  {
   "cell_type": "markdown",
   "metadata": {},
   "source": [
    "11. Plot training and validation loss for with respect to epoch for different learning rates\n",
    "such as 0.0001, 0.001, 0.01, and 0.1."
   ]
  },
  {
   "cell_type": "code",
   "execution_count": 5,
   "metadata": {},
   "outputs": [
    {
     "name": "stdout",
     "output_type": "stream",
     "text": [
      "Epoch 1/20, Train Loss: 2.112538265907551, Val Loss: 2.005226839120221\n",
      "Epoch 2/20, Train Loss: 2.0120140079342193, Val Loss: 1.9464396990028916\n",
      "Epoch 3/20, Train Loss: 1.965852468977194, Val Loss: 1.9221945689741973\n",
      "Epoch 4/20, Train Loss: 1.9425954384267177, Val Loss: 1.9002725918581531\n",
      "Epoch 5/20, Train Loss: 1.9159675911259468, Val Loss: 1.8807257588501949\n",
      "Epoch 6/20, Train Loss: 1.9031825654037164, Val Loss: 1.8583040495587002\n",
      "Epoch 7/20, Train Loss: 1.8880001454402113, Val Loss: 1.8466004558429596\n",
      "Epoch 8/20, Train Loss: 1.8760118771087178, Val Loss: 1.850966782326911\n",
      "Epoch 9/20, Train Loss: 1.8662531430763967, Val Loss: 1.8386363185894716\n",
      "Epoch 10/20, Train Loss: 1.8567381252718094, Val Loss: 1.8263673433073007\n",
      "Epoch 11/20, Train Loss: 1.8465411847509692, Val Loss: 1.8277531687621098\n",
      "Epoch 12/20, Train Loss: 1.8377282017332208, Val Loss: 1.8128202098190405\n",
      "Epoch 13/20, Train Loss: 1.8319914444633152, Val Loss: 1.8150731940178355\n",
      "Epoch 14/20, Train Loss: 1.8258912304173345, Val Loss: 1.808507874513128\n",
      "Epoch 15/20, Train Loss: 1.8217511480421666, Val Loss: 1.80987668265203\n",
      "Epoch 16/20, Train Loss: 1.8167457130863844, Val Loss: 1.8099685201219693\n",
      "Epoch 17/20, Train Loss: 1.8092210035189948, Val Loss: 1.8074193091908837\n",
      "Epoch 18/20, Train Loss: 1.8071407247382356, Val Loss: 1.8001823827719232\n",
      "Epoch 19/20, Train Loss: 1.804382317511322, Val Loss: 1.7996497883158884\n",
      "Epoch 20/20, Train Loss: 1.798852957727964, Val Loss: 1.79036217889968\n"
     ]
    },
    {
     "data": {
      "image/png": "[encoded data removed]",
      "text/plain": [
       "<Figure size 640x480 with 1 Axes>"
      ]
     },
     "metadata": {},
     "output_type": "display_data"
    }
   ],
   "source": [
    "import torch\n",
    "import torch.nn as nn\n",
    "import torch.optim as optim\n",
    "from torch.utils.data import DataLoader\n",
    "\n",
    "# Assuming you already have your training and validation datasets\n",
    "\n",
    "# Define your data loaders\n",
    "train_loader = DataLoader(train_dataset, batch_size=64, shuffle=True)\n",
    "val_loader = DataLoader(test_dataset, batch_size=64, shuffle=False)\n",
    "\n",
    "# Instantiate the model\n",
    "model = SimpleCNN(x1, m1, x2, m2, x3, d)\n",
    "\n",
    "# Define the loss function and the optimizer\n",
    "criterion = nn.CrossEntropyLoss()\n",
    "optimizer = optim.Adam(model.parameters(), lr=0.001)  # You can adjust the learning rate\n",
    "\n",
    "# Training loop\n",
    "num_epochs = 20\n",
    "train_losses = []\n",
    "val_losses = []\n",
    "\n",
    "for epoch in range(num_epochs):\n",
    "    model.train()\n",
    "    running_train_loss = 0.0\n",
    "    for inputs, labels in train_loader:\n",
    "        optimizer.zero_grad()\n",
    "        outputs = model(inputs)\n",
    "        loss = criterion(outputs, labels)\n",
    "        loss.backward()\n",
    "        optimizer.step()\n",
    "        running_train_loss += loss.item()\n",
    "\n",
    "    average_train_loss = running_train_loss / len(train_loader)\n",
    "    train_losses.append(average_train_loss)\n",
    "\n",
    "    # Validation\n",
    "    model.eval()\n",
    "    running_val_loss = 0.0\n",
    "    with torch.no_grad():\n",
    "        for inputs, labels in val_loader:\n",
    "            outputs = model(inputs)\n",
    "            loss = criterion(outputs, labels)\n",
    "            running_val_loss += loss.item()\n",
    "\n",
    "    average_val_loss = running_val_loss / len(val_loader)\n",
    "    val_losses.append(average_val_loss)\n",
    "\n",
    "    print(f'Epoch {epoch + 1}/{num_epochs}, Train Loss: {average_train_loss}, Val Loss: {average_val_loss}')\n",
    "\n",
    "# Plotting the training and validation loss\n",
    "import matplotlib.pyplot as plt\n",
    "\n",
    "plt.plot(range(1, num_epochs + 1), train_losses, label='Train Loss')\n",
    "plt.plot(range(1, num_epochs + 1), val_losses, label='Validation Loss')\n",
    "plt.xlabel('Epoch')\n",
    "plt.ylabel('Loss')\n",
    "plt.title('Training and Validation Loss')\n",
    "plt.legend()\n",
    "plt.show()\n"
   ]
  },
  {
   "cell_type": "markdown",
   "metadata": {},
   "source": [
    "**2 Compare your network with state-of-the-art networks***\n",
    "\n",
    "\"In practice, training an entire convolutional network from scratch (starting with\n",
    "random initialization) is a rare occurrence. This is primarily due to the scarcity of\n",
    "datasets of sufficient size. Instead, a common approach is to first pretrain a CNN\n",
    "on an extensive dataset, such as ImageNet, which comprises 1.2 million images\n",
    "across 1000 categories. Subsequently, this pretrained CNN can be utilized as either\n",
    "an initialization point or a fixed feature extractor when tackling a specific task of\n",
    "interest. This is known as transfer learning\" 3\n",
    "."
   ]
  },
  {
   "cell_type": "markdown",
   "metadata": {},
   "source": [
    "12. Choose two state-of-the-art pre-trained model or architecture like ImageNet, ResNet,\n",
    "Googlenet, AlexNet, DenseNet and VGG.\n",
    "\n",
    "13. Load the pre-trained model and fine-tune it for the CIFAR-10 dataset.\n",
    "\n",
    "14. Train the fine-tuned model using the same training and testing data splits as your\n",
    "custom CNN model.\n",
    "\n",
    "15. Record training and validation loss values for each epoch.\n"
   ]
  },
  {
   "cell_type": "code",
   "execution_count": 8,
   "metadata": {},
   "outputs": [
    {
     "name": "stderr",
     "output_type": "stream",
     "text": [
      "c:\\Users\\MSI\\anaconda3\\Lib\\site-packages\\torchvision\\models\\_utils.py:208: UserWarning: The parameter 'pretrained' is deprecated since 0.13 and may be removed in the future, please use 'weights' instead.\n",
      "  warnings.warn(\n",
      "c:\\Users\\MSI\\anaconda3\\Lib\\site-packages\\torchvision\\models\\_utils.py:223: UserWarning: Arguments other than a weight enum or `None` for 'weights' are deprecated since 0.13 and may be removed in the future. The current behavior is equivalent to passing `weights=ResNet18_Weights.IMAGENET1K_V1`. You can also use `weights=ResNet18_Weights.DEFAULT` to get the most up-to-date weights.\n",
      "  warnings.warn(msg)\n",
      "Downloading: \"https://download.pytorch.org/models/resnet18-f37072fd.pth\" to C:\\Users\\MSI/.cache\\torch\\hub\\checkpoints\\resnet18-f37072fd.pth\n",
      "100%|██████████| 44.7M/44.7M [00:04<00:00, 10.8MB/s]\n"
     ]
    },
    {
     "name": "stdout",
     "output_type": "stream",
     "text": [
      "Epoch 1/20, Train Loss: 0.9575070012789553, Val Loss: 0.7237245630306802\n",
      "Epoch 2/20, Train Loss: 0.6490419842016971, Val Loss: 0.685377990364269\n",
      "Epoch 3/20, Train Loss: 0.5174637781670484, Val Loss: 0.7416534693377792\n",
      "Epoch 4/20, Train Loss: 0.42475844536672164, Val Loss: 0.5915965789062961\n",
      "Epoch 5/20, Train Loss: 0.34454588947431813, Val Loss: 0.6382447030324085\n",
      "Epoch 6/20, Train Loss: 0.27055500957476514, Val Loss: 0.7031436951676752\n",
      "Epoch 7/20, Train Loss: 0.21772549507658348, Val Loss: 0.7747138180550496\n",
      "Epoch 8/20, Train Loss: 0.17344701165676385, Val Loss: 0.6938500039896388\n",
      "Epoch 9/20, Train Loss: 0.1527515132304119, Val Loss: 0.7515648219046319\n",
      "Epoch 10/20, Train Loss: 0.12839907713715568, Val Loss: 0.7184100044760734\n",
      "Epoch 11/20, Train Loss: 0.1078687837190183, Val Loss: 0.7679039877691086\n",
      "Epoch 12/20, Train Loss: 0.09269474177023448, Val Loss: 0.8617060528059673\n",
      "Epoch 13/20, Train Loss: 0.08559694795591204, Val Loss: 0.7954639227716787\n",
      "Epoch 14/20, Train Loss: 0.08020738725517126, Val Loss: 0.8357177617823243\n",
      "Epoch 15/20, Train Loss: 0.0766845149109545, Val Loss: 0.9033316473482521\n",
      "Epoch 16/20, Train Loss: 0.08005653380069767, Val Loss: 0.811462403672516\n",
      "Epoch 17/20, Train Loss: 0.058179431621853475, Val Loss: 0.926961180700618\n",
      "Epoch 18/20, Train Loss: 0.07027716874597532, Val Loss: 0.878666224373374\n",
      "Epoch 19/20, Train Loss: 0.06115208787884077, Val Loss: 0.915054394750838\n",
      "Epoch 20/20, Train Loss: 0.05384827201189759, Val Loss: 0.9336362438406914\n"
     ]
    },
    {
     "data": {
      "image/png": "[encoded data removed]",
      "text/plain": [
       "<Figure size 640x480 with 1 Axes>"
      ]
     },
     "metadata": {},
     "output_type": "display_data"
    }
   ],
   "source": [
    "import torch\n",
    "import torch.nn as nn\n",
    "import torch.optim as optim\n",
    "from torch.utils.data import DataLoader\n",
    "from torchvision import transforms, datasets, models\n",
    "import matplotlib.pyplot as plt\n",
    "\n",
    "# Assuming you have your training and validation datasets\n",
    "train_loader = DataLoader(train_dataset, batch_size=64, shuffle=True)\n",
    "val_loader = DataLoader(test_dataset, batch_size=64, shuffle=False)\n",
    "\n",
    "# Load pre-trained ResNet-18 model\n",
    "resnet18 = models.resnet18(pretrained=True)\n",
    "\n",
    "# Modify the last layer for CIFAR-10 (10 classes instead of ImageNet's 1000 classes)\n",
    "num_ftrs = resnet18.fc.in_features\n",
    "resnet18.fc = nn.Linear(num_ftrs, 10)\n",
    "\n",
    "# Define loss function and optimizer\n",
    "criterion = nn.CrossEntropyLoss()\n",
    "optimizer = optim.Adam(resnet18.parameters(), lr=0.001)\n",
    "\n",
    "# Fine-tuning loop\n",
    "num_epochs = 20\n",
    "train_losses = []\n",
    "val_losses = []\n",
    "\n",
    "for epoch in range(num_epochs):\n",
    "    resnet18.train()\n",
    "    running_train_loss = 0.0\n",
    "    for inputs, labels in train_loader:\n",
    "        optimizer.zero_grad()\n",
    "        outputs = resnet18(inputs)\n",
    "        loss = criterion(outputs, labels)\n",
    "        loss.backward()\n",
    "        optimizer.step()\n",
    "        running_train_loss += loss.item()\n",
    "\n",
    "    average_train_loss = running_train_loss / len(train_loader)\n",
    "    train_losses.append(average_train_loss)\n",
    "\n",
    "    # Validation\n",
    "    resnet18.eval()\n",
    "    running_val_loss = 0.0\n",
    "    with torch.no_grad():\n",
    "        for inputs, labels in val_loader:\n",
    "            outputs = resnet18(inputs)\n",
    "            loss = criterion(outputs, labels)\n",
    "            running_val_loss += loss.item()\n",
    "\n",
    "    average_val_loss = running_val_loss / len(val_loader)\n",
    "    val_losses.append(average_val_loss)\n",
    "\n",
    "    print(f'Epoch {epoch + 1}/{num_epochs}, Train Loss: {average_train_loss}, Val Loss: {average_val_loss}')\n",
    "\n",
    "# Plotting the training and validation loss\n",
    "plt.plot(range(1, num_epochs + 1), train_losses, label='Train Loss')\n",
    "plt.plot(range(1, num_epochs + 1), val_losses, label='Validation Loss')\n",
    "plt.xlabel('Epoch')\n",
    "plt.ylabel('Loss')\n",
    "plt.title('Fine-tuned ResNet-18 Training and Validation Loss')\n",
    "plt.legend()\n",
    "plt.show()\n"
   ]
  },
  {
   "cell_type": "markdown",
   "metadata": {},
   "source": [
    "16. Evaluate the fine-tuned model on the testing dataset and calculate the test accuracy"
   ]
  },
  {
   "cell_type": "code",
   "execution_count": 9,
   "metadata": {},
   "outputs": [
    {
     "name": "stdout",
     "output_type": "stream",
     "text": [
      "Test Accuracy: 0.8062\n"
     ]
    }
   ],
   "source": [
    "import torch\n",
    "from sklearn.metrics import accuracy_score\n",
    "import numpy as np\n",
    "\n",
    "# Assuming you have your testing dataset loaded into a DataLoader\n",
    "test_loader = DataLoader(test_dataset, batch_size=64, shuffle=False)\n",
    "\n",
    "# Evaluate the fine-tuned model on the testing dataset\n",
    "resnet18.eval()\n",
    "all_predictions = []\n",
    "all_labels = []\n",
    "\n",
    "with torch.no_grad():\n",
    "    for inputs, labels in test_loader:\n",
    "        outputs = resnet18(inputs)\n",
    "        _, predictions = torch.max(outputs, 1)\n",
    "        all_predictions.extend(predictions.cpu().numpy())\n",
    "        all_labels.extend(labels.cpu().numpy())\n",
    "\n",
    "# Calculate accuracy\n",
    "accuracy = accuracy_score(all_labels, all_predictions)\n",
    "\n",
    "# Print the test accuracy\n",
    "print(f'Test Accuracy: {accuracy}')\n"
   ]
  },
  {
   "cell_type": "markdown",
   "metadata": {},
   "source": [
    "17. Compare the test accuracy of your custom CNN model with that of the fine-tuned\n",
    "state-of-the-art model.\n",
    "\n"
   ]
  },
  {
   "cell_type": "markdown",
   "metadata": {},
   "source": [
    "18. Discuss trade-offs, advantages, and limitations of using a custom model versus a\n",
    "pre-trained model."
   ]
  },
  {
   "cell_type": "code",
   "execution_count": 10,
   "metadata": {},
   "outputs": [
    {
     "name": "stdout",
     "output_type": "stream",
     "text": [
      "\n",
      "Fine-tuning resnet for CIFAR-10:\n"
     ]
    },
    {
     "name": "stderr",
     "output_type": "stream",
     "text": [
      "c:\\Users\\MSI\\anaconda3\\Lib\\site-packages\\torchvision\\models\\_utils.py:208: UserWarning: The parameter 'pretrained' is deprecated since 0.13 and may be removed in the future, please use 'weights' instead.\n",
      "  warnings.warn(\n",
      "c:\\Users\\MSI\\anaconda3\\Lib\\site-packages\\torchvision\\models\\_utils.py:223: UserWarning: Arguments other than a weight enum or `None` for 'weights' are deprecated since 0.13 and may be removed in the future. The current behavior is equivalent to passing `weights=ResNet18_Weights.IMAGENET1K_V1`. You can also use `weights=ResNet18_Weights.DEFAULT` to get the most up-to-date weights.\n",
      "  warnings.warn(msg)\n"
     ]
    },
    {
     "ename": "KeyboardInterrupt",
     "evalue": "",
     "output_type": "error",
     "traceback": [
      "\u001b[1;31m---------------------------------------------------------------------------\u001b[0m",
      "\u001b[1;31mKeyboardInterrupt\u001b[0m                         Traceback (most recent call last)",
      "\u001b[1;32mf:\\5.0semester-05\\4.EN3150 - Pattern Recognition\\Pattern Recognitions Works(Assignments,Homeworks)\\Assignment-03\\EN3150_200377M_A03.ipynb Cell 21\u001b[0m line \u001b[0;36m8\n\u001b[0;32m     <a href='vscode-notebook-cell:/f%3A/5.0semester-05/4.EN3150%20-%20Pattern%20Recognition/Pattern%20Recognitions%20Works%28Assignments%2CHomeworks%29/Assignment-03/EN3150_200377M_A03.ipynb#X34sZmlsZQ%3D%3D?line=78'>79</a>\u001b[0m \u001b[39mprint\u001b[39m(\u001b[39mf\u001b[39m\u001b[39m\"\u001b[39m\u001b[39m\\n\u001b[39;00m\u001b[39mFine-tuning \u001b[39m\u001b[39m{\u001b[39;00mmodel_names[\u001b[39m0\u001b[39m]\u001b[39m}\u001b[39;00m\u001b[39m for CIFAR-10:\u001b[39m\u001b[39m\"\u001b[39m)\n\u001b[0;32m     <a href='vscode-notebook-cell:/f%3A/5.0semester-05/4.EN3150%20-%20Pattern%20Recognition/Pattern%20Recognitions%20Works%28Assignments%2CHomeworks%29/Assignment-03/EN3150_200377M_A03.ipynb#X34sZmlsZQ%3D%3D?line=79'>80</a>\u001b[0m pre_trained_model \u001b[39m=\u001b[39m load_and_modify_model(model_names[\u001b[39m0\u001b[39m])\n\u001b[1;32m---> <a href='vscode-notebook-cell:/f%3A/5.0semester-05/4.EN3150%20-%20Pattern%20Recognition/Pattern%20Recognitions%20Works%28Assignments%2CHomeworks%29/Assignment-03/EN3150_200377M_A03.ipynb#X34sZmlsZQ%3D%3D?line=80'>81</a>\u001b[0m train_losses, val_losses \u001b[39m=\u001b[39m fine_tune_model(pre_trained_model, train_loader, test_loader)\n\u001b[0;32m     <a href='vscode-notebook-cell:/f%3A/5.0semester-05/4.EN3150%20-%20Pattern%20Recognition/Pattern%20Recognitions%20Works%28Assignments%2CHomeworks%29/Assignment-03/EN3150_200377M_A03.ipynb#X34sZmlsZQ%3D%3D?line=82'>83</a>\u001b[0m \u001b[39m# Print the final training and validation loss values\u001b[39;00m\n\u001b[0;32m     <a href='vscode-notebook-cell:/f%3A/5.0semester-05/4.EN3150%20-%20Pattern%20Recognition/Pattern%20Recognitions%20Works%28Assignments%2CHomeworks%29/Assignment-03/EN3150_200377M_A03.ipynb#X34sZmlsZQ%3D%3D?line=83'>84</a>\u001b[0m \u001b[39mprint\u001b[39m(\u001b[39mf\u001b[39m\u001b[39m\"\u001b[39m\u001b[39m\\n\u001b[39;00m\u001b[39mFinal Training Loss: \u001b[39m\u001b[39m{\u001b[39;00mtrain_losses[\u001b[39m-\u001b[39m\u001b[39m1\u001b[39m]\u001b[39m:\u001b[39;00m\u001b[39m.4f\u001b[39m\u001b[39m}\u001b[39;00m\u001b[39m\"\u001b[39m)\n",
      "\u001b[1;32mf:\\5.0semester-05\\4.EN3150 - Pattern Recognition\\Pattern Recognitions Works(Assignments,Homeworks)\\Assignment-03\\EN3150_200377M_A03.ipynb Cell 21\u001b[0m line \u001b[0;36m4\n\u001b[0;32m     <a href='vscode-notebook-cell:/f%3A/5.0semester-05/4.EN3150%20-%20Pattern%20Recognition/Pattern%20Recognitions%20Works%28Assignments%2CHomeworks%29/Assignment-03/EN3150_200377M_A03.ipynb#X34sZmlsZQ%3D%3D?line=44'>45</a>\u001b[0m outputs \u001b[39m=\u001b[39m model(inputs)\n\u001b[0;32m     <a href='vscode-notebook-cell:/f%3A/5.0semester-05/4.EN3150%20-%20Pattern%20Recognition/Pattern%20Recognitions%20Works%28Assignments%2CHomeworks%29/Assignment-03/EN3150_200377M_A03.ipynb#X34sZmlsZQ%3D%3D?line=45'>46</a>\u001b[0m loss \u001b[39m=\u001b[39m criterion(outputs, labels)\n\u001b[1;32m---> <a href='vscode-notebook-cell:/f%3A/5.0semester-05/4.EN3150%20-%20Pattern%20Recognition/Pattern%20Recognitions%20Works%28Assignments%2CHomeworks%29/Assignment-03/EN3150_200377M_A03.ipynb#X34sZmlsZQ%3D%3D?line=46'>47</a>\u001b[0m loss\u001b[39m.\u001b[39mbackward()\n\u001b[0;32m     <a href='vscode-notebook-cell:/f%3A/5.0semester-05/4.EN3150%20-%20Pattern%20Recognition/Pattern%20Recognitions%20Works%28Assignments%2CHomeworks%29/Assignment-03/EN3150_200377M_A03.ipynb#X34sZmlsZQ%3D%3D?line=47'>48</a>\u001b[0m optimizer\u001b[39m.\u001b[39mstep()\n\u001b[0;32m     <a href='vscode-notebook-cell:/f%3A/5.0semester-05/4.EN3150%20-%20Pattern%20Recognition/Pattern%20Recognitions%20Works%28Assignments%2CHomeworks%29/Assignment-03/EN3150_200377M_A03.ipynb#X34sZmlsZQ%3D%3D?line=48'>49</a>\u001b[0m running_train_loss \u001b[39m+\u001b[39m\u001b[39m=\u001b[39m loss\u001b[39m.\u001b[39mitem()\n",
      "File \u001b[1;32mc:\\Users\\MSI\\anaconda3\\Lib\\site-packages\\torch\\_tensor.py:492\u001b[0m, in \u001b[0;36mTensor.backward\u001b[1;34m(self, gradient, retain_graph, create_graph, inputs)\u001b[0m\n\u001b[0;32m    482\u001b[0m \u001b[39mif\u001b[39;00m has_torch_function_unary(\u001b[39mself\u001b[39m):\n\u001b[0;32m    483\u001b[0m     \u001b[39mreturn\u001b[39;00m handle_torch_function(\n\u001b[0;32m    484\u001b[0m         Tensor\u001b[39m.\u001b[39mbackward,\n\u001b[0;32m    485\u001b[0m         (\u001b[39mself\u001b[39m,),\n\u001b[1;32m   (...)\u001b[0m\n\u001b[0;32m    490\u001b[0m         inputs\u001b[39m=\u001b[39minputs,\n\u001b[0;32m    491\u001b[0m     )\n\u001b[1;32m--> 492\u001b[0m torch\u001b[39m.\u001b[39mautograd\u001b[39m.\u001b[39mbackward(\n\u001b[0;32m    493\u001b[0m     \u001b[39mself\u001b[39m, gradient, retain_graph, create_graph, inputs\u001b[39m=\u001b[39minputs\n\u001b[0;32m    494\u001b[0m )\n",
      "File \u001b[1;32mc:\\Users\\MSI\\anaconda3\\Lib\\site-packages\\torch\\autograd\\__init__.py:251\u001b[0m, in \u001b[0;36mbackward\u001b[1;34m(tensors, grad_tensors, retain_graph, create_graph, grad_variables, inputs)\u001b[0m\n\u001b[0;32m    246\u001b[0m     retain_graph \u001b[39m=\u001b[39m create_graph\n\u001b[0;32m    248\u001b[0m \u001b[39m# The reason we repeat the same comment below is that\u001b[39;00m\n\u001b[0;32m    249\u001b[0m \u001b[39m# some Python versions print out the first line of a multi-line function\u001b[39;00m\n\u001b[0;32m    250\u001b[0m \u001b[39m# calls in the traceback and some print out the last line\u001b[39;00m\n\u001b[1;32m--> 251\u001b[0m Variable\u001b[39m.\u001b[39m_execution_engine\u001b[39m.\u001b[39mrun_backward(  \u001b[39m# Calls into the C++ engine to run the backward pass\u001b[39;00m\n\u001b[0;32m    252\u001b[0m     tensors,\n\u001b[0;32m    253\u001b[0m     grad_tensors_,\n\u001b[0;32m    254\u001b[0m     retain_graph,\n\u001b[0;32m    255\u001b[0m     create_graph,\n\u001b[0;32m    256\u001b[0m     inputs,\n\u001b[0;32m    257\u001b[0m     allow_unreachable\u001b[39m=\u001b[39m\u001b[39mTrue\u001b[39;00m,\n\u001b[0;32m    258\u001b[0m     accumulate_grad\u001b[39m=\u001b[39m\u001b[39mTrue\u001b[39;00m,\n\u001b[0;32m    259\u001b[0m )\n",
      "\u001b[1;31mKeyboardInterrupt\u001b[0m: "
     ]
    }
   ],
   "source": [
    "import torch\n",
    "import torchvision\n",
    "from torchvision import transforms, models\n",
    "import torch.nn as nn\n",
    "import torch.optim as optim\n",
    "from torch.utils.data import DataLoader\n",
    "from sklearn.metrics import accuracy_score\n",
    "\n",
    "# Assuming you have the train_loader and test_loader already defined for CIFAR-10\n",
    "\n",
    "# Function to load a pre-trained model and modify the classifier for CIFAR-10\n",
    "def load_and_modify_model(model_name):\n",
    "    if model_name == 'resnet':\n",
    "        model = models.resnet18(pretrained=True)\n",
    "        in_features = model.fc.in_features\n",
    "        model.fc = nn.Linear(in_features, 10)  # Modify the classifier for CIFAR-10\n",
    "    elif model_name == 'densenet':\n",
    "        model = models.densenet121(pretrained=True)\n",
    "        in_features = model.classifier.in_features\n",
    "        model.classifier = nn.Linear(in_features, 10)  # Modify the classifier for CIFAR-10\n",
    "    else:\n",
    "        raise ValueError(\"Invalid model name\")\n",
    "    \n",
    "    return model\n",
    "\n",
    "# Function to fine-tune the model\n",
    "def fine_tune_model(model, train_loader, test_loader, num_epochs=5, learning_rate=0.001):\n",
    "    device = torch.device(\"cuda\" if torch.cuda.is_available() else \"cpu\")\n",
    "    model = model.to(device)\n",
    "\n",
    "    criterion = nn.CrossEntropyLoss()\n",
    "    optimizer = optim.Adam(model.parameters(), lr=learning_rate)\n",
    "\n",
    "    # Lists to store training and validation losses\n",
    "    train_losses = []\n",
    "    val_losses = []\n",
    "\n",
    "    # Fine-tuning loop\n",
    "    for epoch in range(num_epochs):\n",
    "        model.train()\n",
    "        running_train_loss = 0.0\n",
    "        for inputs, labels in train_loader:\n",
    "            inputs, labels = inputs.to(device), labels.to(device)\n",
    "            optimizer.zero_grad()\n",
    "            outputs = model(inputs)\n",
    "            loss = criterion(outputs, labels)\n",
    "            loss.backward()\n",
    "            optimizer.step()\n",
    "            running_train_loss += loss.item()\n",
    "\n",
    "        # Average training loss for the epoch\n",
    "        avg_train_loss = running_train_loss / len(train_loader)\n",
    "        train_losses.append(avg_train_loss)\n",
    "\n",
    "        # Validation\n",
    "        model.eval()\n",
    "        running_val_loss = 0.0\n",
    "        with torch.no_grad():\n",
    "            for inputs, labels in test_loader:\n",
    "                inputs, labels = inputs.to(device), labels.to(device)\n",
    "                outputs = model(inputs)\n",
    "                loss = criterion(outputs, labels)\n",
    "                running_val_loss += loss.item()\n",
    "\n",
    "        # Average validation loss for the epoch\n",
    "        avg_val_loss = running_val_loss / len(test_loader)\n",
    "        val_losses.append(avg_val_loss)\n",
    "\n",
    "        # Print progress\n",
    "        print(f\"Epoch {epoch+1}/{num_epochs}, Train Loss: {avg_train_loss:.4f}, Validation Loss: {avg_val_loss:.4f}\")\n",
    "\n",
    "    return train_losses, val_losses\n",
    "\n",
    "# Choose the models to fine-tune\n",
    "model_names = ['resnet', 'densenet']\n",
    "\n",
    "# Fine-tune each model\n",
    "#resnet\n",
    "print(f\"\\nFine-tuning {model_names[0]} for CIFAR-10:\")\n",
    "pre_trained_model = load_and_modify_model(model_names[0])\n",
    "train_losses, val_losses = fine_tune_model(pre_trained_model, train_loader, test_loader)\n",
    "\n",
    "# Print the final training and validation loss values\n",
    "print(f\"\\nFinal Training Loss: {train_losses[-1]:.4f}\")\n",
    "print(f\"Final Validation Loss: {val_losses[-1]:.4f}\")\n",
    "\n",
    "#densenet\n",
    "print(f\"\\nFine-tuning {model_names[1]} for CIFAR-10:\")\n",
    "pre_trained_model = load_and_modify_model(model_names[1])\n",
    "train_losses, val_losses = fine_tune_model(pre_trained_model, train_loader, test_loader)\n",
    "\n",
    "# Print the final training and validation loss values\n",
    "print(f\"\\nFinal Training Loss: {train_losses[-1]:.4f}\")\n",
    "print(f\"Final Validation Loss: {val_losses[-1]:.4f}\")"
   ]
  },
  {
   "cell_type": "code",
   "execution_count": null,
   "metadata": {},
   "outputs": [],
   "source": [
    "import torch\n",
    "from sklearn.metrics import accuracy_score\n",
    "\n",
    "# Assuming you have the test_loader and the fine-tuned model already defined\n",
    "\n",
    "def evaluate_model(model, test_loader):\n",
    "    device = torch.device(\"cuda\" if torch.cuda.is_available() else \"cpu\")\n",
    "    model = model.to(device)\n",
    "\n",
    "    model.eval()\n",
    "    all_predictions = []\n",
    "    all_labels = []\n",
    "\n",
    "    with torch.no_grad():\n",
    "        for inputs, labels in test_loader:\n",
    "            inputs, labels = inputs.to(device), labels.to(device)\n",
    "            outputs = model(inputs)\n",
    "            _, predictions = torch.max(outputs, 1)\n",
    "            all_predictions.extend(predictions.cpu().numpy())\n",
    "            all_labels.extend(labels.cpu().numpy())\n",
    "\n",
    "    accuracy = accuracy_score(all_labels, all_predictions)\n",
    "    print(f'Test Accuracy: {accuracy * 100:.2f}%')\n",
    "\n",
    "# Assuming you have already fine-tuned the model and have it stored in the variable \"pre_trained_model\"\n",
    "evaluate_model(pre_trained_model, test_loader)\n"
   ]
  }
 ],
 "metadata": {
  "kernelspec": {
   "display_name": "patrec",
   "language": "python",
   "name": "patrec"
  },
  "language_info": {
   "codemirror_mode": {
    "name": "ipython",
    "version": 3
   },
   "file_extension": ".py",
   "mimetype": "text/x-python",
   "name": "python",
   "nbconvert_exporter": "python",
   "pygments_lexer": "ipython3",
   "version": "3.11.5"
  }
 },
 "nbformat": 4,
 "nbformat_minor": 2
}
